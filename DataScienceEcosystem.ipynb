{
 "cells": [
  {
   "cell_type": "markdown",
   "id": "8907beb4",
   "metadata": {},
   "source": [
    "# Data Science Tools and Ecosystem"
   ]
  },
  {
   "cell_type": "markdown",
   "id": "f7d4618e",
   "metadata": {},
   "source": [
    "### In this notebook the data science tools and ecosystem is discussed\n"
   ]
  },
  {
   "cell_type": "markdown",
   "id": "e030767c",
   "metadata": {},
   "source": [
    " objectives that this notebook covered"
   ]
  },
  {
   "cell_type": "markdown",
   "id": "d1ced366",
   "metadata": {},
   "source": [
    "Objectives"
   ]
  },
  {
   "cell_type": "markdown",
   "id": "b65077f5",
   "metadata": {},
   "source": [
    "* Most commonly used data science languages\n",
    "* Some of the commonly used libraries used by Data Scientists include\n",
    "* Data Science Tools\n",
    "* few examples of evaluating arithmetic expressions in Python"
   ]
  },
  {
   "cell_type": "markdown",
   "id": "a57791dc",
   "metadata": {},
   "source": [
    "#### Most commonly used data science languages"
   ]
  },
  {
   "cell_type": "markdown",
   "id": "40b61100",
   "metadata": {},
   "source": [
    "1. python\n",
    "2. R\n",
    "3. Sql\n",
    "4. C++\n",
    "5. Julia"
   ]
  },
  {
   "cell_type": "markdown",
   "id": "0ce805de",
   "metadata": {},
   "source": [
    "#### Some of the commonly used libraries used by Data Scientists include"
   ]
  },
  {
   "cell_type": "markdown",
   "id": "3066c4d7",
   "metadata": {},
   "source": [
    "1. Pandas\n",
    "2. NumPy\n",
    "3. matplotlib\n",
    "4. seaborn\n",
    "5. scikit-learn"
   ]
  },
  {
   "cell_type": "markdown",
   "id": "99cfd6e9",
   "metadata": {},
   "source": [
    "  |Data Science Tools|\n",
    "  |------------------|\n",
    "  |Anaconda|\n",
    "  |Github|\n",
    "  |Tensorflow|"
   ]
  },
  {
   "cell_type": "markdown",
   "id": "aeeb680b",
   "metadata": {},
   "source": [
    "### Below are a few examples of evaluating arithmetic expressions in Python"
   ]
  },
  {
   "cell_type": "markdown",
   "id": "55d04da7",
   "metadata": {},
   "source": [
    " This a simple arithmetic expression to mutiply then add integers"
   ]
  },
  {
   "cell_type": "code",
   "execution_count": 1,
   "id": "43b2c811",
   "metadata": {},
   "outputs": [
    {
     "data": {
      "text/plain": [
       "17"
      ]
     },
     "execution_count": 1,
     "metadata": {},
     "output_type": "execute_result"
    }
   ],
   "source": [
    "(3*4)+5"
   ]
  },
  {
   "cell_type": "markdown",
   "id": "37ae8d3e",
   "metadata": {},
   "source": [
    "This will convert 200 minutes to hours by diving by 60"
   ]
  },
  {
   "cell_type": "code",
   "execution_count": 2,
   "id": "eb029c7a",
   "metadata": {},
   "outputs": [
    {
     "data": {
      "text/plain": [
       "3.3333333333333335"
      ]
     },
     "execution_count": 2,
     "metadata": {},
     "output_type": "execute_result"
    }
   ],
   "source": [
    "(200*1/60)"
   ]
  },
  {
   "cell_type": "markdown",
   "id": "d51e206f",
   "metadata": {},
   "source": [
    "## Author"
   ]
  },
  {
   "cell_type": "markdown",
   "id": "97b6063e",
   "metadata": {},
   "source": [
    "Muhammad Taha Nisar"
   ]
  },
  {
   "cell_type": "code",
   "execution_count": null,
   "id": "e77c205d",
   "metadata": {},
   "outputs": [],
   "source": []
  }
 ],
 "metadata": {
  "kernelspec": {
   "display_name": "Python 3 (ipykernel)",
   "language": "python",
   "name": "python3"
  },
  "language_info": {
   "codemirror_mode": {
    "name": "ipython",
    "version": 3
   },
   "file_extension": ".py",
   "mimetype": "text/x-python",
   "name": "python",
   "nbconvert_exporter": "python",
   "pygments_lexer": "ipython3",
   "version": "3.11.5"
  }
 },
 "nbformat": 4,
 "nbformat_minor": 5
}
